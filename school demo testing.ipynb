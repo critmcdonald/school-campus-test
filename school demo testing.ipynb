{
 "cells": [
  {
   "cell_type": "code",
   "execution_count": 1,
   "metadata": {
    "collapsed": true
   },
   "outputs": [],
   "source": [
    "import agate"
   ]
  },
  {
   "cell_type": "code",
   "execution_count": 10,
   "metadata": {
    "collapsed": false
   },
   "outputs": [
    {
     "name": "stdout",
     "output_type": "stream",
     "text": [
      "campus-demographics.csv    school_export.csv\r\n",
      "school demo testing.ipynb\r\n"
     ]
    }
   ],
   "source": [
    "ls #looking in directory"
   ]
  },
  {
   "cell_type": "code",
   "execution_count": 3,
   "metadata": {
    "collapsed": false
   },
   "outputs": [
    {
     "name": "stdout",
     "output_type": "stream",
     "text": [
      "| column      | data_type |\n",
      "| ----------- | --------- |\n",
      "| DISTNAME    | Text      |\n",
      "| CAMPNAME    | Text      |\n",
      "| CNTYNAME    | Text      |\n",
      "| Longitude   | Number    |\n",
      "| Latitude    | Number    |\n",
      "| STREET      | Text      |\n",
      "| CITY        | Text      |\n",
      "| ZIP         | Number    |\n",
      "| CAMPUS      | Text      |\n",
      "| year        | Date      |\n",
      "| COUNT_ALL   | Number    |\n",
      "| COUNT_BLACK | Number    |\n",
      "| COUNT_HIS   | Number    |\n",
      "| COUNT_WHITE | Number    |\n",
      "| COUNT_AI    | Number    |\n",
      "| COUNT_API   | Number    |\n",
      "| COUNT_ASIAN | Number    |\n",
      "| COUNT_PI    | Number    |\n",
      "| COUNT_TWO   | Number    |\n",
      "| COUNT_ECON  | Number    |\n",
      "| COUNT_ELL   | Number    |\n",
      "| PER_BLACK   | Number    |\n",
      "| PER_HIS     | Number    |\n",
      "| PER_WHITE   | Number    |\n",
      "| PER_AI      | Number    |\n",
      "| PER_API     | Number    |\n",
      "| PER_ASIAN   | Number    |\n",
      "| PER_PI      | Number    |\n",
      "| PER_TWO     | Number    |\n",
      "| PER_ECON    | Number    |\n",
      "| PER_ELL     | Number    |\n",
      "\n"
     ]
    }
   ],
   "source": [
    "# making sure CAMPUS stays text\n",
    "specified_types = {\n",
    "    'CAMPUS': agate.Text()\n",
    "}\n",
    "\n",
    "# import\n",
    "raw = agate.Table.from_csv('campus-demographics.csv', column_types=specified_types)\n",
    "print(raw) # peeking at structure"
   ]
  },
  {
   "cell_type": "code",
   "execution_count": 4,
   "metadata": {
    "collapsed": false
   },
   "outputs": [
    {
     "name": "stdout",
     "output_type": "stream",
     "text": [
      "| column    | data_type |\n",
      "| --------- | --------- |\n",
      "| DISTNAME  | Text      |\n",
      "| CAMPNAME  | Text      |\n",
      "| CNTYNAME  | Text      |\n",
      "| Longitude | Number    |\n",
      "| Latitude  | Number    |\n",
      "| STREET    | Text      |\n",
      "| CITY      | Text      |\n",
      "| ZIP       | Number    |\n",
      "| CAMPUS    | Text      |\n",
      "| year      | Date      |\n",
      "| CNT_ALL   | Number    |\n",
      "| CNT_BLACK | Number    |\n",
      "| CNT_HIS   | Number    |\n",
      "| CNT_WHITE | Number    |\n",
      "| CNT_AI    | Number    |\n",
      "| CNT_API   | Number    |\n",
      "| CNT_ASIAN | Number    |\n",
      "| CNT_PI    | Number    |\n",
      "| CNT_TWO   | Number    |\n",
      "| CNT_ECON  | Number    |\n",
      "| CNT_ELL   | Number    |\n",
      "| PER_BLACK | Number    |\n",
      "| PER_HIS   | Number    |\n",
      "| PER_WHITE | Number    |\n",
      "| PER_AI    | Number    |\n",
      "| PER_API   | Number    |\n",
      "| PER_ASIAN | Number    |\n",
      "| PER_PI    | Number    |\n",
      "| PER_TWO   | Number    |\n",
      "| PER_ECON  | Number    |\n",
      "| PER_ELL   | Number    |\n",
      "\n",
      "| DISTNAME    | CAMPNAME             | CNTYNAME | Longitude | Latitude | STREET               | ... |\n",
      "| ----------- | -------------------- | -------- | --------- | -------- | -------------------- | --- |\n",
      "| BASTROP ISD | BASTROP H S          | BASTROP  |  -95.258… |  29.439… | 1450 HTS RD          | ... |\n",
      "| BASTROP ISD | GATEWAY SCH          | BASTROP  | -101.949… |  32.527… | 2911 COUNTY RD H     | ... |\n",
      "| BASTROP ISD | BASTROP MIDDLE       | BASTROP  |  -98.651… |  29.230… | 7650 S LOOP 1604 W   | ... |\n",
      "| BASTROP ISD | EMILE ELEMENTARY     | BASTROP  |  -98.574… |  29.558… | 11431 VANCE JACKS... | ... |\n",
      "| BASTROP ISD | MINA ELEMENTARY      | BASTROP  |  -95.718… |  29.940… | 19545 CYPRESS N H... | ... |\n",
      "| BASTROP ISD | CEDAR CREEK ELEME... | BASTROP  |  -95.201… |  29.931… | 14600 WOODSON PAR... | ... |\n",
      "| BASTROP ISD | BASTROP INTERMEDIATE | BASTROP  | -101.580… |  35.645… | 538 EAGLE BLVD       | ... |\n",
      "| BASTROP ISD | CEDAR CREEK MIDDL... | BASTROP  |  -97.186… |  33.107… | 191 U S HWY 377      | ... |\n",
      "| BASTROP ISD | RED ROCK ELEMENTARY  | BASTROP  |  -97.191… |  32.861… | 9100 MID CITIES BLVD | ... |\n",
      "| BASTROP ISD | CEDAR CREEK INTER... | BASTROP  |  -95.715… |  29.853… | 19636 PLANTATION ... | ... |\n"
     ]
    }
   ],
   "source": [
    "# tuple of school info columns that we will reuse in different places\n",
    "\n",
    "school_columns = (\n",
    "    'DISTNAME',\n",
    "    'CAMPNAME',\n",
    "    'CNTYNAME',\n",
    "    'Longitude',\n",
    "    'Latitude',\n",
    "    'STREET',\n",
    "    'CITY',\n",
    "    'ZIP',\n",
    "    'CAMPUS',\n",
    "    'year',\n",
    "    'CNT_ALL',\n",
    ")\n",
    "\n",
    "# Renameing the count columns so #chars same as PER_\n",
    "# might not need to do this depending on import data\n",
    "data = raw.rename(column_names = {\n",
    "    'COUNT_ALL': 'CNT_ALL',\n",
    "    'COUNT_BLACK': 'CNT_BLACK',\n",
    "    'COUNT_HIS': 'CNT_HIS',\n",
    "    'COUNT_WHITE': 'CNT_WHITE',\n",
    "    'COUNT_AI': 'CNT_AI',\n",
    "    'COUNT_API': 'CNT_API',\n",
    "    'COUNT_ASIAN': 'CNT_ASIAN',\n",
    "    'COUNT_PI': 'CNT_PI',\n",
    "    'COUNT_TWO': 'CNT_TWO',\n",
    "    'COUNT_ECON': 'CNT_ECON',\n",
    "    'COUNT_ELL': 'CNT_ELL'\n",
    "})\n",
    "print(data) # print columns to see structure\n",
    "data.limit(10).print_table() # peek at data"
   ]
  },
  {
   "cell_type": "code",
   "execution_count": 5,
   "metadata": {
    "collapsed": false
   },
   "outputs": [
    {
     "name": "stdout",
     "output_type": "stream",
     "text": [
      "| column      | data_type |\n",
      "| ----------- | --------- |\n",
      "| DISTNAME    | Text      |\n",
      "| CAMPNAME    | Text      |\n",
      "| CNTYNAME    | Text      |\n",
      "| Longitude   | Number    |\n",
      "| Latitude    | Number    |\n",
      "| STREET      | Text      |\n",
      "| CITY        | Text      |\n",
      "| ZIP         | Number    |\n",
      "| CAMPUS      | Text      |\n",
      "| year        | Date      |\n",
      "| CNT_ALL     | Number    |\n",
      "| CNT_BLACK   | Number    |\n",
      "| CNT_HIS     | Number    |\n",
      "| CNT_WHITE   | Number    |\n",
      "| CNT_AI      | Number    |\n",
      "| CNT_API     | Number    |\n",
      "| CNT_ASIAN   | Number    |\n",
      "| CNT_PI      | Number    |\n",
      "| CNT_TWO     | Number    |\n",
      "| CNT_ECON    | Number    |\n",
      "| CNT_ELL     | Number    |\n",
      "| PER_BLACK   | Number    |\n",
      "| PER_HIS     | Number    |\n",
      "| PER_WHITE   | Number    |\n",
      "| PER_AI      | Number    |\n",
      "| PER_API     | Number    |\n",
      "| PER_ASIAN   | Number    |\n",
      "| PER_PI      | Number    |\n",
      "| PER_TWO     | Number    |\n",
      "| PER_ECON    | Number    |\n",
      "| PER_ELL     | Number    |\n",
      "| BLACK_combo | Text      |\n",
      "| HIS_combo   | Text      |\n",
      "\n"
     ]
    }
   ],
   "source": [
    "# compute new columns that concatenates cnt_ and per_ columns\n",
    "# should probably be a function that takes three values: category, cnt_col and pct_col\n",
    "data_test = data.limit(10) # this limits our work to 10 rows for testing. Take out and fix next line for realz\n",
    "data_concats = data_test.compute([\n",
    "    ('BLACK_combo', agate.Formula(agate.Text(), lambda row: 'BLACK'\\\n",
    "                              + \"|\"\n",
    "                              + str(row['CNT_BLACK'])\\\n",
    "                              + \"|\"\n",
    "                              + str(row['PER_BLACK'])\\\n",
    "                             )),\n",
    "    ('HIS_combo', agate.Formula(agate.Text(), lambda row: 'HISPANIC'\\\n",
    "                              + \"|\"\n",
    "                              + str(row['CNT_HIS'])\\\n",
    "                              + \"|\"\n",
    "                              + str(row['PER_HIS'])\\\n",
    "                             )),\n",
    "\n",
    "])\n",
    "\n",
    "### ^^^^^ will need to add the other combinations to above ^^^^^^\n",
    "\n",
    "print(data_concats) # making sure I created it"
   ]
  },
  {
   "cell_type": "code",
   "execution_count": 6,
   "metadata": {
    "collapsed": false
   },
   "outputs": [
    {
     "name": "stdout",
     "output_type": "stream",
     "text": [
      "| column      | data_type |\n",
      "| ----------- | --------- |\n",
      "| DISTNAME    | Text      |\n",
      "| CAMPNAME    | Text      |\n",
      "| CNTYNAME    | Text      |\n",
      "| Longitude   | Number    |\n",
      "| Latitude    | Number    |\n",
      "| STREET      | Text      |\n",
      "| CITY        | Text      |\n",
      "| ZIP         | Number    |\n",
      "| CAMPUS      | Text      |\n",
      "| year        | Date      |\n",
      "| CNT_ALL     | Number    |\n",
      "| BLACK_combo | Text      |\n",
      "| HIS_combo   | Text      |\n",
      "\n"
     ]
    }
   ],
   "source": [
    "## select just the good rows of the new table\n",
    "\n",
    "## expand this list when all combos created\n",
    "combo_columns = (\n",
    "    'BLACK_combo',\n",
    "    'HIS_combo'\n",
    ")\n",
    "\n",
    "# putting my schools columns list together with combo columns list\n",
    "schools_combo_columns = school_columns + combo_columns\n",
    "\n",
    "# create new table based on coluns we need\n",
    "data_restructured = data_concats.select(schools_combo_columns)\n",
    "\n",
    "print(data_restructured) #print col names to check"
   ]
  },
  {
   "cell_type": "code",
   "execution_count": 7,
   "metadata": {
    "collapsed": false
   },
   "outputs": [
    {
     "name": "stdout",
     "output_type": "stream",
     "text": [
      "| column    | data_type |\n",
      "| --------- | --------- |\n",
      "| DISTNAME  | Text      |\n",
      "| CAMPNAME  | Text      |\n",
      "| CNTYNAME  | Text      |\n",
      "| Longitude | Number    |\n",
      "| Latitude  | Number    |\n",
      "| STREET    | Text      |\n",
      "| CITY      | Text      |\n",
      "| ZIP       | Number    |\n",
      "| CAMPUS    | Text      |\n",
      "| year      | Date      |\n",
      "| CNT_ALL   | Number    |\n",
      "| property  | Text      |\n",
      "| value     | Text      |\n",
      "\n",
      "| CAMPNAME             | property    | value             |\n",
      "| -------------------- | ----------- | ----------------- |\n",
      "| BASTROP H S          | BLACK_combo | BLACK|218|9.6     |\n",
      "| BASTROP H S          | HIS_combo   | HISPANIC|788|34.7 |\n",
      "| GATEWAY SCH          | BLACK_combo | BLACK|17|31.5     |\n",
      "| GATEWAY SCH          | HIS_combo   | HISPANIC|23|42.6  |\n",
      "| BASTROP MIDDLE       | BLACK_combo | BLACK|93|15.5     |\n",
      "| BASTROP MIDDLE       | HIS_combo   | HISPANIC|142|23.6 |\n",
      "| EMILE ELEMENTARY     | BLACK_combo | BLACK|85|17       |\n",
      "| EMILE ELEMENTARY     | HIS_combo   | HISPANIC|102|20.4 |\n",
      "| MINA ELEMENTARY      | BLACK_combo | BLACK|102|17.6    |\n",
      "| MINA ELEMENTARY      | HIS_combo   | HISPANIC|177|30.5 |\n",
      "| CEDAR CREEK ELEME... | BLACK_combo | BLACK|38|6.5      |\n",
      "| CEDAR CREEK ELEME... | HIS_combo   | HISPANIC|350|59.8 |\n",
      "| BASTROP INTERMEDIATE | BLACK_combo | BLACK|83|13.3     |\n",
      "| BASTROP INTERMEDIATE | HIS_combo   | HISPANIC|173|27.8 |\n",
      "| CEDAR CREEK MIDDL... | BLACK_combo | BLACK|37|6.4      |\n",
      "| CEDAR CREEK MIDDL... | HIS_combo   | HISPANIC|303|52.5 |\n",
      "| RED ROCK ELEMENTARY  | BLACK_combo | BLACK|11|2.1      |\n",
      "| RED ROCK ELEMENTARY  | HIS_combo   | HISPANIC|263|49.4 |\n",
      "| CEDAR CREEK INTER... | BLACK_combo | BLACK|34|5.6      |\n",
      "| CEDAR CREEK INTER... | HIS_combo   | HISPANIC|320|53.1 |\n"
     ]
    }
   ],
   "source": [
    "## normalize the table. Keep the school columns. Expand the combo columns\n",
    "\n",
    "data_normalized = data_restructured.normalize(\n",
    "        list(school_columns),\n",
    "        list(combo_columns)\n",
    "    )\n",
    "print(data_normalized) # check columns\n",
    "data_normalized.select(['CAMPNAME', 'property', 'value']).print_table() # peek at importnt cols"
   ]
  },
  {
   "cell_type": "code",
   "execution_count": 8,
   "metadata": {
    "collapsed": false
   },
   "outputs": [
    {
     "name": "stdout",
     "output_type": "stream",
     "text": [
      "| column    | data_type |\n",
      "| --------- | --------- |\n",
      "| DISTNAME  | Text      |\n",
      "| CAMPNAME  | Text      |\n",
      "| CNTYNAME  | Text      |\n",
      "| Longitude | Number    |\n",
      "| Latitude  | Number    |\n",
      "| STREET    | Text      |\n",
      "| CITY      | Text      |\n",
      "| ZIP       | Number    |\n",
      "| CAMPUS    | Text      |\n",
      "| year      | Date      |\n",
      "| CNT_ALL   | Number    |\n",
      "| property  | Text      |\n",
      "| value     | Text      |\n",
      "| CATEGORY  | Text      |\n",
      "| COUNT     | Text      |\n",
      "| PERCENT   | Text      |\n",
      "\n",
      "| CAMPNAME             | value             | CATEGORY | COUNT | PERCENT |\n",
      "| -------------------- | ----------------- | -------- | ----- | ------- |\n",
      "| BASTROP H S          | BLACK|218|9.6     | BLACK    | 218   | 9.6     |\n",
      "| BASTROP H S          | HISPANIC|788|34.7 | HISPANIC | 788   | 34.7    |\n",
      "| GATEWAY SCH          | BLACK|17|31.5     | BLACK    | 17    | 31.5    |\n",
      "| GATEWAY SCH          | HISPANIC|23|42.6  | HISPANIC | 23    | 42.6    |\n",
      "| BASTROP MIDDLE       | BLACK|93|15.5     | BLACK    | 93    | 15.5    |\n",
      "| BASTROP MIDDLE       | HISPANIC|142|23.6 | HISPANIC | 142   | 23.6    |\n",
      "| EMILE ELEMENTARY     | BLACK|85|17       | BLACK    | 85    | 17      |\n",
      "| EMILE ELEMENTARY     | HISPANIC|102|20.4 | HISPANIC | 102   | 20.4    |\n",
      "| MINA ELEMENTARY      | BLACK|102|17.6    | BLACK    | 102   | 17.6    |\n",
      "| MINA ELEMENTARY      | HISPANIC|177|30.5 | HISPANIC | 177   | 30.5    |\n",
      "| CEDAR CREEK ELEME... | BLACK|38|6.5      | BLACK    | 38    | 6.5     |\n",
      "| CEDAR CREEK ELEME... | HISPANIC|350|59.8 | HISPANIC | 350   | 59.8    |\n",
      "| BASTROP INTERMEDIATE | BLACK|83|13.3     | BLACK    | 83    | 13.3    |\n",
      "| BASTROP INTERMEDIATE | HISPANIC|173|27.8 | HISPANIC | 173   | 27.8    |\n",
      "| CEDAR CREEK MIDDL... | BLACK|37|6.4      | BLACK    | 37    | 6.4     |\n",
      "| CEDAR CREEK MIDDL... | HISPANIC|303|52.5 | HISPANIC | 303   | 52.5    |\n",
      "| RED ROCK ELEMENTARY  | BLACK|11|2.1      | BLACK    | 11    | 2.1     |\n",
      "| RED ROCK ELEMENTARY  | HISPANIC|263|49.4 | HISPANIC | 263   | 49.4    |\n",
      "| CEDAR CREEK INTER... | BLACK|34|5.6      | BLACK    | 34    | 5.6     |\n",
      "| CEDAR CREEK INTER... | HISPANIC|320|53.1 | HISPANIC | 320   | 53.1    |\n"
     ]
    }
   ],
   "source": [
    "## create new columns from the split of the concatenated colunn\n",
    "exploded = data_normalized.compute([\n",
    "        ('CATEGORY', agate.Formula(agate.Text(), lambda row: row['value'].split(\"|\")[0])),\n",
    "        ('COUNT', agate.Formula(agate.Text(), lambda row: row['value'].split(\"|\")[1])),\n",
    "        ('PERCENT', agate.Formula(agate.Text(), lambda row: row['value'].split(\"|\")[2])),\n",
    "    ])\n",
    "print(exploded)\n",
    "exploded.select(['CAMPNAME', 'value', 'CATEGORY', 'COUNT', 'PERCENT']).print_table() # just to peek at it"
   ]
  },
  {
   "cell_type": "code",
   "execution_count": 9,
   "metadata": {
    "collapsed": false
   },
   "outputs": [
    {
     "name": "stdout",
     "output_type": "stream",
     "text": [
      "| column    | data_type |\n",
      "| --------- | --------- |\n",
      "| DISTNAME  | Text      |\n",
      "| CAMPNAME  | Text      |\n",
      "| CNTYNAME  | Text      |\n",
      "| Longitude | Number    |\n",
      "| Latitude  | Number    |\n",
      "| STREET    | Text      |\n",
      "| CITY      | Text      |\n",
      "| ZIP       | Number    |\n",
      "| CAMPUS    | Text      |\n",
      "| year      | Date      |\n",
      "| CNT_ALL   | Number    |\n",
      "| CATEGORY  | Text      |\n",
      "| COUNT     | Text      |\n",
      "| PERCENT   | Text      |\n",
      "\n",
      "| DISTNAME    | CAMPNAME             | CNTYNAME | Longitude | Latitude | STREET               | ... |\n",
      "| ----------- | -------------------- | -------- | --------- | -------- | -------------------- | --- |\n",
      "| BASTROP ISD | BASTROP H S          | BASTROP  |  -95.258… |  29.439… | 1450 HTS RD          | ... |\n",
      "| BASTROP ISD | BASTROP H S          | BASTROP  |  -95.258… |  29.439… | 1450 HTS RD          | ... |\n",
      "| BASTROP ISD | GATEWAY SCH          | BASTROP  | -101.949… |  32.527… | 2911 COUNTY RD H     | ... |\n",
      "| BASTROP ISD | GATEWAY SCH          | BASTROP  | -101.949… |  32.527… | 2911 COUNTY RD H     | ... |\n",
      "| BASTROP ISD | BASTROP MIDDLE       | BASTROP  |  -98.651… |  29.230… | 7650 S LOOP 1604 W   | ... |\n",
      "| BASTROP ISD | BASTROP MIDDLE       | BASTROP  |  -98.651… |  29.230… | 7650 S LOOP 1604 W   | ... |\n",
      "| BASTROP ISD | EMILE ELEMENTARY     | BASTROP  |  -98.574… |  29.558… | 11431 VANCE JACKS... | ... |\n",
      "| BASTROP ISD | EMILE ELEMENTARY     | BASTROP  |  -98.574… |  29.558… | 11431 VANCE JACKS... | ... |\n",
      "| BASTROP ISD | MINA ELEMENTARY      | BASTROP  |  -95.718… |  29.940… | 19545 CYPRESS N H... | ... |\n",
      "| BASTROP ISD | MINA ELEMENTARY      | BASTROP  |  -95.718… |  29.940… | 19545 CYPRESS N H... | ... |\n",
      "| BASTROP ISD | CEDAR CREEK ELEME... | BASTROP  |  -95.201… |  29.931… | 14600 WOODSON PAR... | ... |\n",
      "| BASTROP ISD | CEDAR CREEK ELEME... | BASTROP  |  -95.201… |  29.931… | 14600 WOODSON PAR... | ... |\n",
      "| BASTROP ISD | BASTROP INTERMEDIATE | BASTROP  | -101.580… |  35.645… | 538 EAGLE BLVD       | ... |\n",
      "| BASTROP ISD | BASTROP INTERMEDIATE | BASTROP  | -101.580… |  35.645… | 538 EAGLE BLVD       | ... |\n",
      "| BASTROP ISD | CEDAR CREEK MIDDL... | BASTROP  |  -97.186… |  33.107… | 191 U S HWY 377      | ... |\n",
      "| BASTROP ISD | CEDAR CREEK MIDDL... | BASTROP  |  -97.186… |  33.107… | 191 U S HWY 377      | ... |\n",
      "| BASTROP ISD | RED ROCK ELEMENTARY  | BASTROP  |  -97.191… |  32.861… | 9100 MID CITIES BLVD | ... |\n",
      "| BASTROP ISD | RED ROCK ELEMENTARY  | BASTROP  |  -97.191… |  32.861… | 9100 MID CITIES BLVD | ... |\n",
      "| BASTROP ISD | CEDAR CREEK INTER... | BASTROP  |  -95.715… |  29.853… | 19636 PLANTATION ... | ... |\n",
      "| BASTROP ISD | CEDAR CREEK INTER... | BASTROP  |  -95.715… |  29.853… | 19636 PLANTATION ... | ... |\n"
     ]
    }
   ],
   "source": [
    "# reselect just the good columns\n",
    "stats_columns = (\n",
    "    'CATEGORY',\n",
    "    'COUNT',\n",
    "    'PERCENT'\n",
    ")\n",
    "\n",
    "export_columns = school_columns + stats_columns\n",
    "\n",
    "export = exploded.select(export_columns)\n",
    "print(export) # show column names\n",
    "export.print_table() # peek at table\n",
    "export.to_csv('school_export.csv')"
   ]
  },
  {
   "cell_type": "code",
   "execution_count": null,
   "metadata": {
    "collapsed": true
   },
   "outputs": [],
   "source": []
  }
 ],
 "metadata": {
  "kernelspec": {
   "display_name": "Python 3",
   "language": "python",
   "name": "python3"
  },
  "language_info": {
   "codemirror_mode": {
    "name": "ipython",
    "version": 3
   },
   "file_extension": ".py",
   "mimetype": "text/x-python",
   "name": "python",
   "nbconvert_exporter": "python",
   "pygments_lexer": "ipython3",
   "version": "3.5.1"
  }
 },
 "nbformat": 4,
 "nbformat_minor": 0
}
